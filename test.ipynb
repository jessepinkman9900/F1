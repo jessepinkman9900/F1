{
 "cells": [
  {
   "cell_type": "code",
   "execution_count": 1,
   "metadata": {},
   "outputs": [],
   "source": [
    "import pandas as pd"
   ]
  },
  {
   "cell_type": "code",
   "execution_count": 2,
   "metadata": {},
   "outputs": [
    {
     "name": "stdout",
     "output_type": "stream",
     "text": [
      "/Users/srinivaskota/Desktop/isb/F1\n"
     ]
    }
   ],
   "source": [
    "import os\n",
    "print(os.getcwd())"
   ]
  },
  {
   "cell_type": "code",
   "execution_count": 3,
   "metadata": {},
   "outputs": [],
   "source": [
    "pitstops_df = pd.read_csv(\"./data/base/pitstops.csv\")\n"
   ]
  },
  {
   "cell_type": "code",
   "execution_count": 4,
   "metadata": {},
   "outputs": [
    {
     "name": "stdout",
     "output_type": "stream",
     "text": [
      "   raceId  driverId  stop  lap      time duration  milliseconds\n",
      "0     841       153     1    1  17:05:23   26.898         26898\n",
      "1     841        30     1    1  17:05:52   25.021         25021\n",
      "2     841        17     1   11  17:20:48   23.426         23426\n",
      "3     841         4     1   12  17:22:34   23.251         23251\n",
      "4     841        13     1   13  17:24:10   23.842         23842\n"
     ]
    }
   ],
   "source": [
    "print(pitstops_df.head())"
   ]
  },
  {
   "cell_type": "code",
   "execution_count": 5,
   "metadata": {},
   "outputs": [
    {
     "name": "stdout",
     "output_type": "stream",
     "text": [
      "      driverId  lap  milliseconds\n",
      "0          153    1         26898\n",
      "1           30    1         25021\n",
      "2           17   11         23426\n",
      "3            4   12         23251\n",
      "4           13   13         23842\n",
      "...        ...  ...           ...\n",
      "6907       847   38         20751\n",
      "6908       846   39         22080\n",
      "6909       825   39         20859\n",
      "6910         9   42         20703\n",
      "6911       844   47         19857\n",
      "\n",
      "[6912 rows x 3 columns]\n"
     ]
    }
   ],
   "source": [
    "print(pitstops_df.loc[:,['driverId','lap','milliseconds']])"
   ]
  },
  {
   "cell_type": "code",
   "execution_count": 6,
   "metadata": {},
   "outputs": [],
   "source": [
    "tmp = pitstops_df.loc[:,['driverId','lap','milliseconds']]"
   ]
  },
  {
   "cell_type": "code",
   "execution_count": 7,
   "metadata": {},
   "outputs": [
    {
     "name": "stdout",
     "output_type": "stream",
     "text": [
      "      driverId  lap  milliseconds\n",
      "0          153    1         26898\n",
      "1           30    1         25021\n",
      "2           17   11         23426\n",
      "3            4   12         23251\n",
      "4           13   13         23842\n",
      "...        ...  ...           ...\n",
      "6907       847   38         20751\n",
      "6908       846   39         22080\n",
      "6909       825   39         20859\n",
      "6910         9   42         20703\n",
      "6911       844   47         19857\n",
      "\n",
      "[6912 rows x 3 columns]\n"
     ]
    }
   ],
   "source": [
    "print(tmp)"
   ]
  },
  {
   "cell_type": "code",
   "execution_count": 8,
   "metadata": {},
   "outputs": [
    {
     "name": "stdout",
     "output_type": "stream",
     "text": [
      "Index(['driverId', 'lap', 'milliseconds'], dtype='object')\n"
     ]
    }
   ],
   "source": [
    "print(tmp.columns)"
   ]
  },
  {
   "cell_type": "code",
   "execution_count": 9,
   "metadata": {},
   "outputs": [
    {
     "data": {
      "text/plain": [
       "['driverId', 'lap', 'milliseconds']"
      ]
     },
     "execution_count": 9,
     "metadata": {},
     "output_type": "execute_result"
    }
   ],
   "source": [
    "(list(pitstops_df.loc[:,['driverId','lap','milliseconds']]))"
   ]
  },
  {
   "cell_type": "code",
   "execution_count": 17,
   "metadata": {},
   "outputs": [
    {
     "name": "stdout",
     "output_type": "stream",
     "text": [
      "0\n",
      "row\n",
      "driverId          153\n",
      "lap                 1\n",
      "milliseconds    26898\n",
      "Name: 0, dtype: int64\n",
      "<class 'int'>\n"
     ]
    }
   ],
   "source": [
    "for i, r in tmp.iterrows():\n",
    "    print(i)\n",
    "    print(\"row\")\n",
    "    print(r)\n",
    "    lap = r['lap']\n",
    "    time = r['milliseconds']\n",
    "    print(type(int(time)))\n",
    "#     print(lap,time)\n",
    "    break"
   ]
  },
  {
   "cell_type": "code",
   "execution_count": null,
   "metadata": {},
   "outputs": [],
   "source": []
  }
 ],
 "metadata": {
  "kernelspec": {
   "display_name": "Python 3",
   "language": "python",
   "name": "python3"
  },
  "language_info": {
   "codemirror_mode": {
    "name": "ipython",
    "version": 3
   },
   "file_extension": ".py",
   "mimetype": "text/x-python",
   "name": "python",
   "nbconvert_exporter": "python",
   "pygments_lexer": "ipython3",
   "version": "3.7.5"
  }
 },
 "nbformat": 4,
 "nbformat_minor": 2
}
